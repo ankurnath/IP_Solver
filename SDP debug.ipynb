{
 "cells": [
  {
   "cell_type": "code",
   "execution_count": 1,
   "metadata": {},
   "outputs": [
    {
     "name": "stdout",
     "output_type": "stream",
     "text": [
      "===============================================================================\n",
      "                                     CVXPY                                     \n",
      "                                     v1.5.2                                    \n",
      "===============================================================================\n",
      "(CVXPY) Sep 04 01:19:18 PM: Your problem has 4000000 variables, 2000 constraints, and 0 parameters.\n",
      "(CVXPY) Sep 04 01:19:18 PM: It is compliant with the following grammars: DCP, DQCP\n",
      "(CVXPY) Sep 04 01:19:18 PM: (If you need to solve this problem multiple times, but with different data, consider using parameters.)\n",
      "(CVXPY) Sep 04 01:19:18 PM: CVXPY will first compile your problem; then, it will invoke a numerical solver to obtain a solution.\n",
      "(CVXPY) Sep 04 01:19:18 PM: Your problem is compiled with the CPP canonicalization backend.\n",
      "-------------------------------------------------------------------------------\n",
      "                                  Compilation                                  \n",
      "-------------------------------------------------------------------------------\n",
      "(CVXPY) Sep 04 01:19:18 PM: Compiling problem (target solver=SCS).\n",
      "(CVXPY) Sep 04 01:19:18 PM: Reduction chain: FlipObjective -> Dcp2Cone -> CvxAttr2Constr -> ConeMatrixStuffing -> SCS\n",
      "(CVXPY) Sep 04 01:19:18 PM: Applying reduction FlipObjective\n",
      "(CVXPY) Sep 04 01:19:18 PM: Applying reduction Dcp2Cone\n",
      "(CVXPY) Sep 04 01:19:18 PM: Applying reduction CvxAttr2Constr\n",
      "(CVXPY) Sep 04 01:19:22 PM: Applying reduction ConeMatrixStuffing\n",
      "(CVXPY) Sep 04 01:19:25 PM: Applying reduction SCS\n",
      "(CVXPY) Sep 04 01:19:26 PM: Finished problem compilation (took 7.368e+00 seconds).\n",
      "-------------------------------------------------------------------------------\n",
      "                                Numerical solver                               \n",
      "-------------------------------------------------------------------------------\n",
      "(CVXPY) Sep 04 01:19:26 PM: Invoking solver SCS  to obtain a solution.\n",
      "------------------------------------------------------------------\n",
      "\t       SCS v3.2.4 - Splitting Conic Solver\n",
      "\t(c) Brendan O'Donoghue, Stanford University, 2012\n",
      "------------------------------------------------------------------\n",
      "problem:  variables n: 2001000, constraints m: 2003000\n",
      "cones: \t  z: primal zero / dual free vars: 2000\n",
      "\t  s: psd vars: 2001000, ssize: 1\n",
      "settings: eps_abs: 1.0e-05, eps_rel: 1.0e-05, eps_infeas: 1.0e-07\n",
      "\t  alpha: 1.50, scale: 1.00e-01, adaptive_scale: 1\n",
      "\t  max_iters: 10000, normalize: 1, rho_x: 1.00e-06\n",
      "\t  acceleration_lookback: 10, acceleration_interval: 10\n",
      "lin-sys:  sparse-direct-amd-qdldl\n",
      "\t  nnz(A): 2003000, nnz(P): 0\n",
      "------------------------------------------------------------------\n",
      " iter | pri res | dua res |   gap   |   obj   |  scale  | time (s)\n",
      "------------------------------------------------------------------\n",
      "     0| 1.83e+01  1.44e+00  7.09e+04 -3.52e+04  1.00e-01  3.71e+00 \n",
      "   250| 2.44e-03  3.91e-04  1.45e-03 -4.13e+03  3.64e-01  1.63e+02 \n",
      "   500| 1.04e-03  1.83e-04  5.81e-04 -4.14e+03  3.64e-01  3.21e+02 \n",
      "   750| 5.42e-04  9.89e-05  2.91e-04 -4.14e+03  3.64e-01  4.76e+02 \n",
      "  1000| 3.29e-04  6.21e-05  1.66e-04 -4.14e+03  3.64e-01  6.30e+02 \n",
      "  1250| 1.99e-04  4.00e-05  9.66e-05 -4.14e+03  3.64e-01  7.83e+02 \n",
      "  1500| 1.03e-04  2.26e-05  4.77e-05 -4.14e+03  3.64e-01  9.34e+02 \n",
      "  1675| 1.60e-05  2.69e-06  5.46e-06 -4.14e+03  3.64e-01  1.04e+03 \n",
      "------------------------------------------------------------------\n",
      "status:  solved\n",
      "timings: total: 1.04e+03s = setup: 2.82e+00s + solve: 1.04e+03s\n",
      "\t lin-sys: 1.04e+02s, cones: 8.91e+02s, accel: 5.76e+00s\n",
      "------------------------------------------------------------------\n",
      "objective = -4140.967575\n",
      "------------------------------------------------------------------\n",
      "-------------------------------------------------------------------------------\n",
      "                                    Summary                                    \n",
      "-------------------------------------------------------------------------------\n",
      "(CVXPY) Sep 04 01:36:46 PM: Problem status: optimal\n",
      "(CVXPY) Sep 04 01:36:46 PM: Optimal value: 1.414e+04\n",
      "(CVXPY) Sep 04 01:36:46 PM: Compilation took 7.368e+00 seconds\n",
      "(CVXPY) Sep 04 01:36:46 PM: Solver (including time spent in interface) took 1.040e+03 seconds\n"
     ]
    },
    {
     "data": {
      "text/plain": [
       "14135.967572434723"
      ]
     },
     "execution_count": 1,
     "metadata": {},
     "output_type": "execute_result"
    }
   ],
   "source": [
    "import os\n",
    "os.environ[\"OMP_NUM_THREADS\"] = \"4\"\n",
    "import cvxpy as cp\n",
    "from utils import *\n",
    "from scipy.linalg import sqrtm\n",
    "import numpy as np\n",
    "\n",
    "\n",
    "\n",
    "\n",
    "test_dataset = GraphDataset(f'../data/testing/ER_2000vertices_unweighted',ordered=True)\n",
    "\n",
    "\n",
    "graph = test_dataset.get()\n",
    "\n",
    "n = len(graph)\n",
    "\n",
    "matrix = cp.Variable((n , n ), PSD=True)\n",
    "\n",
    "cut = .25 * cp.sum(cp.multiply(graph, 1 - matrix))\n",
    "\n",
    "problem = cp.Problem(cp.Maximize(cut), [cp.diag(matrix) == 1])\n",
    "\n",
    "problem.solve(verbose=True,max_iters = 10000)\n",
    "\n"
   ]
  },
  {
   "cell_type": "code",
   "execution_count": 2,
   "metadata": {},
   "outputs": [],
   "source": [
    "eigenvalues, eigenvectors = np.linalg.eigh(matrix.value)\n",
    "eigenvalues = np.maximum(eigenvalues, 0)\n",
    "diagonal_root = np.diag(np.sqrt(eigenvalues))\n",
    "solution = diagonal_root @ eigenvectors.T\n",
    "size = len(solution)\n",
    "partition = np.random.normal(size=size)\n",
    "projections = solution.T @ partition\n",
    "\n",
    "spins = np.sign(projections)"
   ]
  },
  {
   "cell_type": "code",
   "execution_count": 14,
   "metadata": {},
   "outputs": [],
   "source": []
  },
  {
   "cell_type": "code",
   "execution_count": 3,
   "metadata": {},
   "outputs": [
    {
     "name": "stdout",
     "output_type": "stream",
     "text": [
      "11261.0\n"
     ]
    }
   ],
   "source": [
    "# vectors = matrix.value\n",
    "# random = np.random.normal(size=vectors.shape[1])\n",
    "# random /= np.linalg.norm(random, 2)\n",
    "\n",
    "# spins = np.sign(np.dot(vectors, random))\n",
    "\n",
    "# print(np.sign(np.dot(vectors, random)))\n",
    "\n",
    "cut = (1/4) * np.sum( np.multiply( graph, 1 - np.outer(spins, spins) ) )\n",
    "print(cut)"
   ]
  },
  {
   "cell_type": "code",
   "execution_count": 22,
   "metadata": {},
   "outputs": [
    {
     "data": {
      "text/plain": [
       "SolverStats(solver_name='SCS', solve_time=21.681970189, setup_time=0.481454469, num_iters=300, extra_stats={'x': array([ 1.        , -0.46005134, -0.11417227, ...,  1.        ,\n",
       "        0.29207976,  1.00000001]), 'y': array([ 2.81559176e+00,  3.26566248e+00,  3.39374897e+00, ...,\n",
       "        2.77065967e+00, -5.76880950e-07,  2.94830329e+00]), 's': array([0.        , 0.        , 0.        , ..., 0.99999994, 0.41306315,\n",
       "       1.00001175]), 'info': {'status_val': 1, 'iter': 300, 'scale_updates': 1, 'scale': 0.33771147804621665, 'pobj': -2495.1987225341145, 'dobj': -2495.1987219823636, 'res_pri': 1.8136954520180453e-05, 'res_dual': 4.286679435652077e-06, 'gap': 5.517508725461084e-07, 'res_infeas': nan, 'res_unbdd_a': 0.0004007696875019722, 'res_unbdd_p': 0.0, 'comp_slack': 2.6284396881237626e-10, 'solve_time': 21681.970189, 'setup_time': 481.454469, 'lin_sys_time': 2264.7561059999994, 'cone_time': 18264.397310000015, 'accel_time': 187.38331300000007, 'rejected_accel_steps': 1, 'accepted_accel_steps': 1, 'status': 'solved'}})"
      ]
     },
     "execution_count": 22,
     "metadata": {},
     "output_type": "execute_result"
    }
   ],
   "source": [
    "problem.solver_stats"
   ]
  }
 ],
 "metadata": {
  "kernelspec": {
   "display_name": "gcomb",
   "language": "python",
   "name": "python3"
  },
  "language_info": {
   "codemirror_mode": {
    "name": "ipython",
    "version": 3
   },
   "file_extension": ".py",
   "mimetype": "text/x-python",
   "name": "python",
   "nbconvert_exporter": "python",
   "pygments_lexer": "ipython3",
   "version": "3.10.13"
  }
 },
 "nbformat": 4,
 "nbformat_minor": 2
}
